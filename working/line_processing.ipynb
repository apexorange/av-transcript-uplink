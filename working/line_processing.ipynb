{
 "cells": [
  {
   "metadata": {
    "trusted": true
   },
   "cell_type": "code",
   "source": "text_lines:list  = [[\"Q. What is your name? And if you\", \"<QA>\", True],\n[\"don't mind, please also give me\", None, False],\n[\"your age, ssn, date of birth, favorite\", None, False],\n[\"color, and finally - what is your problem?\", None, False],\n[\"MR. SMUG: OBJECTION - I DON'T LIKE THE\", \"<OBJ>\", True],\n[\"TIE THIS GUY IS WEARING.\", None, False],\n[\"A. Can I answer? I'm going to answer.\", \"<QA>\", True],\n[\"Q. Yes, you can answer.\", \"<QA>\", True],\n[\"MR. SMUG: OBJECT TO FORM.\", \"<OBJ>\", True],\n[\"A. My name is Carl, and I am 41\", \"<QA>\", True],\n[\"years-old as of Monday.\", None, False],\n[\"Q. Oh really?\", \"<QA>\", True],\n[\"MR. SMUG: OBJECT! AND I WILL NOT PUT\", \"<OBJ>\", True],\n[\"UP WITH THIS NONSENSE!\", \"<OBJ>\", False]]\n\n# This function iterates through the `text_lines` list, and when it finds a `True` line, it starts concatenating the `False` lines that follow until it hits another `True` line. It then prints the concatenated result. This ensures all `False` lines are included with the preceding `True` line.\n\nobj_tag: str = \"<OBJ>\"\nqa_tag: str = \"<QA>\"\n\ndef assemble_lines(lines):\n    new_lines = []\n    for current_line, e in enumerate(lines):\n        if lines[current_line][2]:\n            output = lines[current_line][1] + lines[current_line][0]\n            current_line += 1\n            while current_line < len(lines) and not lines[current_line][2]:\n                output += \" \" + lines[current_line][0]\n                current_line += 1\n            new_lines.append(output)\n    return new_lines\n\ntext_lines = assemble_lines(text_lines)\ntext_lines\n\n\ndef hide_line_type(lines: list, line_type: str) -> list:\n    \"Choose line type to hide based on prefix\"\n    def no_objection(line):\n        if line_type not in line:\n            return line\n    return list(filter(no_objection, lines))\n    \n    \ndef prepare_lines_to_display(lines: list, *prefixes: str) -> list:\n    \"Hide prefixes and other metadata\"\n    filtered_lines = []\n    for line in lines:\n        for prefix in prefixes:\n            line = line.replace(prefix, \"\")\n        filtered_lines.append(line)\n    return filtered_lines\n    \n    \ndef final_formatting(lines: list) -> str:\n    formatted_lines = []\n    for line in lines:\n        if line.startswith(\"Q. \"):\n            formatted_lines.append(line.replace(\"Q. \", \"Q.\\t\"))\n        elif line.startswith(\"A. \"):\n            formatted_lines.append(line.replace(\"A. \", \"A.\\t\"))\n        else:\n            formatted_lines.append(line)\n    return \"\\n\".join(formatted_lines)\n\n\ndef main():\n    current_lines = hide_line_type(text_lines, obj_tag)\n    current_lines = prepare_lines_to_display(current_lines, qa_tag, obj_tag)\n    line_strs = final_formatting(current_lines)\n    print(line_strs)\n\nmain()",
   "execution_count": 14,
   "outputs": [
    {
     "output_type": "stream",
     "text": "Q.\tWhat is your name? And if you don't mind, please also give me your age, ssn, date of birth, favorite color, and finally - what is your problem?\nA.\tCan I answer? I'm going to answer.\nQ.\tYes, you can answer.\nA.\tMy name is Carl, and I am 41 years-old as of Monday.\nQ.\tOh really?\n",
     "name": "stdout"
    }
   ]
  },
  {
   "metadata": {
    "trusted": false
   },
   "cell_type": "code",
   "source": "# def identify_anchor_lines(lines):\n#     for i, e in enumerate(lines):\n#         if lines[i][2] and lines[i+1][2]:\n#             print(lines[i][0])\n#         elif lines[i][2]:\n#             print(lines[i][0] + \" \" + lines[i+1][0])\n",
   "execution_count": 39,
   "outputs": []
  }
 ],
 "metadata": {
  "kernelspec": {
   "name": "python3",
   "display_name": "Python 3",
   "language": "python"
  },
  "language_info": {
   "name": "python",
   "version": "3.10.4",
   "mimetype": "text/x-python",
   "codemirror_mode": {
    "name": "ipython",
    "version": 3
   },
   "pygments_lexer": "ipython3",
   "nbconvert_exporter": "python",
   "file_extension": ".py"
  }
 },
 "nbformat": 4,
 "nbformat_minor": 2
}
