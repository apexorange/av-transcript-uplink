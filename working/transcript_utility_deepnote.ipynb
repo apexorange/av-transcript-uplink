{
 "cells": [
  {
   "cell_type": "code",
   "metadata": {
    "source_hash": "fcad14ed",
    "execution_start": 1718059609705,
    "execution_millis": 133,
    "deepnote_to_be_reexecuted": false,
    "deepnote_app_block_visible": true,
    "cell_id": "03292e68d4eb441a977261b5f439e3d3",
    "deepnote_cell_type": "code",
    "ExecuteTime": {
     "end_time": "2024-07-12T23:02:07.066298Z",
     "start_time": "2024-07-12T23:02:07.062939Z"
    }
   },
   "source": [
    "import re\n",
    "\n",
    "\"\"\" VARIABLES \"\"\"\n",
    "\n",
    "lines_to_hide: list = [\"<OBJ>\", \"<OTHER>\", \"<NAME>\"]\n",
    "detect_pages = True\n",
    "witness_name = \"Helt\"\n",
    "num_range = []\n",
    "\n",
    "\"\"\" SOURCE \"\"\"\n",
    "\n",
    "original_line_lst: list = [\n",
    "\"8 Q.  I understand.  And my question is very narrow and written\"\n",
    "                       \"9 right there in the record.\",\n",
    "                       \"10          His recommendation was observation.\",\n",
    "                       \"11          You would agree with that; right?\",\n",
    "                       \"12 A.  The way he worded it, he said, I would recommend a repeat\",\n",
    "                       \"13 MRI scan in six to 12 months.\"\n",
    "                       \"14          That's what he recommended.\"\n",
    "]\n"
   ],
   "block_group": "55cf46db5465437286e0838ac0851705",
   "outputs_reference": null,
   "content_dependencies": {
    "codeHash": "9c46a422",
    "usedVariables": [],
    "importedModules": [
     "re"
    ],
    "definedVariables": [
     "lines_to_hide",
     "detect_pages",
     "num_range",
     "original_line_lst"
    ]
   },
   "outputs": [],
   "execution_count": 71
  },
  {
   "cell_type": "code",
   "metadata": {
    "source_hash": "bbca866d",
    "execution_start": 1718059609705,
    "execution_millis": 134,
    "deepnote_to_be_reexecuted": false,
    "deepnote_app_block_visible": true,
    "cell_id": "8b34e4d42ec1445a8c770feec1b4ec11",
    "deepnote_cell_type": "code",
    "ExecuteTime": {
     "end_time": "2024-07-12T23:02:07.076298Z",
     "start_time": "2024-07-12T23:02:07.073444Z"
    }
   },
   "source": "\"\"\" FUNCTIONS \"\"\"",
   "block_group": "c321d68034044e169aea975b53fefb6c",
   "outputs_reference": "dbtable:cell_outputs/68d5b18f-6259-4cf7-aca9-ed3f10ea4038",
   "content_dependencies": {
    "codeHash": "bbca866d",
    "usedVariables": [],
    "importedModules": [],
    "definedVariables": []
   },
   "outputs": [
    {
     "data": {
      "text/plain": [
       "' FUNCTIONS '"
      ]
     },
     "execution_count": 72,
     "metadata": {},
     "output_type": "execute_result"
    }
   ],
   "execution_count": 72
  },
  {
   "cell_type": "code",
   "metadata": {
    "source_hash": "f1b70672",
    "execution_start": 1718059609706,
    "execution_millis": 133,
    "deepnote_to_be_reexecuted": false,
    "deepnote_app_block_visible": true,
    "cell_id": "aefddf756988486ca330f61b4f7b5421",
    "deepnote_cell_type": "code",
    "ExecuteTime": {
     "end_time": "2024-07-12T23:02:07.080859Z",
     "start_time": "2024-07-12T23:02:07.077711Z"
    }
   },
   "source": "def set_pattern_match(text_str: str) -> str:\n\n    \"\"\"\n    INPUT: str\n    OUTPUT: str \n\n    Detect a pattern based on a deposition transcript with a each\n    lines starting with a series of line numbers that typically range from 1-25 lines.\n    However, we also have a mechanism to deal with non-standard\n    deposition pages - for instance, trial transcripts by turning off\n    page detection.\"\n    \"\"\"\n    \n    first_num = None  # set up variables to keep track of line number range\n    last_num = None  # set up variables to keep track of line number range\n\n    if not detect_pages: # format for non-standard transcripts\n        match = re.match(r\"^\\d+(:\\s*\\d+)?\\s+\", text_str)\n        if match:\n            num = match.group(1)\n            text_str = text_str[match.end():].lstrip()\n    else: # format for standard deposition transcripts with each content page being 1-25 lines\n        match = re.match(r\"^(\\d+)\\s+\", text_str)\n        if match: \n            num = int(match.group(1))\n            text_str = text_str[match.end():].lstrip() # remove spaces on the left of text string\n            num_range.append(num)\n    return text_str, num_range",
   "block_group": "16d33f3a1bd74584979de532015aa26f",
   "outputs_reference": null,
   "content_dependencies": {
    "codeHash": "f1b70672",
    "usedVariables": [
     "num",
     "num_range",
     "text_str",
     "re",
     "match",
     "detect_pages"
    ],
    "importedModules": [],
    "definedVariables": [
     "num",
     "first_num",
     "text_str",
     "last_num",
     "set_pattern_match",
     "match"
    ]
   },
   "outputs": [],
   "execution_count": 73
  },
  {
   "cell_type": "code",
   "metadata": {
    "source_hash": "509a69b4",
    "execution_start": 1718059609726,
    "execution_millis": 169,
    "deepnote_to_be_reexecuted": false,
    "deepnote_app_block_visible": true,
    "cell_id": "42acc56d8cad4c1dad950b2e4e35b402",
    "deepnote_cell_type": "code",
    "ExecuteTime": {
     "end_time": "2024-07-12T23:02:07.084119Z",
     "start_time": "2024-07-12T23:02:07.081752Z"
    }
   },
   "source": "def word_replacements(text_str: str) -> str:\n\n    \"\"\"\n    INPUT: str\n    OUTPUT: str\n\n    Performs a key/value word replacement for \n    any of the text strings in the current line\n    \"\"\"\n    swap_phrase_dct = {\"THE WITNESS:\": \"A.\"}\n    for word, replacement in swap_phrase_dct.items():\n        if word in text_str:\n            text_str = text_str.replace(word, replacement)\n    return text_str",
   "block_group": "46e6843a987d45e282c1edb5eae814a7",
   "outputs_reference": null,
   "content_dependencies": {
    "codeHash": "509a69b4",
    "usedVariables": [
     "word",
     "swap_phrase_dct",
     "replacement",
     "text_str"
    ],
    "importedModules": [],
    "definedVariables": [
     "text_str",
     "word",
     "swap_phrase_dct",
     "replacement",
     "word_replacements"
    ]
   },
   "outputs": [],
   "execution_count": 74
  },
  {
   "cell_type": "code",
   "metadata": {
    "source_hash": "fa51b094",
    "execution_start": 1718059609727,
    "execution_millis": 168,
    "deepnote_to_be_reexecuted": false,
    "deepnote_app_block_visible": true,
    "cell_id": "924ad7a3ef4c4bf28432cbeb5452a5a2",
    "deepnote_cell_type": "code",
    "ExecuteTime": {
     "end_time": "2024-07-12T23:02:07.091108Z",
     "start_time": "2024-07-12T23:02:07.087956Z"
    }
   },
   "source": "def tag_all_lines(text_str: str, input_lst: list) -> list:\n    qa_prefixes_lst = [\"Q.\", \"A.\"]\n    objection_phrases_lst = [\"MR\", \"MRS\", \"MS\", \"ATTY\", \"ATTORNEY\"]\n    if any(text_str.startswith(prefix) for prefix in qa_prefixes_lst):\n        input_lst.append([f'{text_str}', \"<QA>\", True])\n    elif any(text_str.startswith(phrase) for phrase in objection_phrases_lst):\n        input_lst.append([f'{text_str.upper()}', \"<OBJ>\", True])\n    elif text_str.startswith(\"BY\") and text_str.endswith(\":\"):\n        input_lst.append([f'{text_str.upper()}', \"<NAME>\", True])\n    else:\n        input_lst.append([text_str, None, False])\n    return input_lst",
   "block_group": "27e79dc54f7743579b4293b7d0dc14e7",
   "outputs_reference": null,
   "content_dependencies": {
    "codeHash": "fa51b094",
    "usedVariables": [
     "objection_phrases_lst",
     "input_lst",
     "qa_prefixes_lst",
     "text_str",
     "phrase",
     "prefix"
    ],
    "importedModules": [],
    "definedVariables": [
     "objection_phrases_lst",
     "prefix",
     "phrase",
     "tag_all_lines",
     "qa_prefixes_lst"
    ]
   },
   "outputs": [],
   "execution_count": 75
  },
  {
   "cell_type": "code",
   "metadata": {
    "source_hash": "40223aba",
    "execution_start": 1718059609727,
    "execution_millis": 169,
    "deepnote_to_be_reexecuted": false,
    "deepnote_app_block_visible": true,
    "cell_id": "d133d7fac0a84d4d9015538ac9594392",
    "deepnote_cell_type": "code",
    "ExecuteTime": {
     "end_time": "2024-07-12T23:02:07.094379Z",
     "start_time": "2024-07-12T23:02:07.092222Z"
    }
   },
   "source": "def initial_transcript_intake(original: list) -> list:\n    processed_lines_lst: list = []\n    for i, string in enumerate(original):\n        text_line = string.strip()\n        text_line = word_replacements(text_line)\n        text_line = set_pattern_match(text_line)\n        tagged_lines_lst = tag_all_lines(text_line[0], processed_lines_lst)\n    return tagged_lines_lst",
   "block_group": "c687dc65f6f841e9976478fac10f49e7",
   "outputs_reference": null,
   "content_dependencies": {
    "codeHash": "40223aba",
    "usedVariables": [
     "text_line",
     "word_replacements",
     "tagged_lines_lst",
     "tag_all_lines",
     "processed_lines_lst",
     "set_pattern_match",
     "string",
     "original"
    ],
    "importedModules": [],
    "definedVariables": [
     "text_line",
     "initial_transcript_intake",
     "i",
     "processed_lines_lst",
     "tagged_lines_lst",
     "string"
    ]
   },
   "outputs": [],
   "execution_count": 76
  },
  {
   "cell_type": "code",
   "metadata": {
    "trusted": true,
    "allow_embed": false,
    "source_hash": "6f462433",
    "execution_start": 1718059609741,
    "execution_millis": 155,
    "deepnote_to_be_reexecuted": false,
    "deepnote_app_block_visible": true,
    "cell_id": "858a59bf254941e1ac743ca5ee5074a0",
    "deepnote_cell_type": "code",
    "ExecuteTime": {
     "end_time": "2024-07-12T23:02:07.098443Z",
     "start_time": "2024-07-12T23:02:07.095093Z"
    }
   },
   "source": "def assemble_lines(tagged_lines: list) -> list:\n\n    \"\"\"\n    This function iterates through the `tagged_lines_lst` list, \n    and when it finds a `True` line, it starts concatenating the `False` \n    lines that follow until it hits another `True` line. It then prints the concatenated result. \n    This ensures all `False` lines are included with the preceding `True` line.\n    \"\"\"\n\n    cap_strings_lst = [\"<OBJ>\", \"<OTHER>\", \"<NAME>\"]\n    assembled_lines = []\n    for i, e in enumerate(tagged_lines):\n        if tagged_lines[i][2]:\n            if tagged_lines[i][1] not in cap_strings_lst:\n                output = tagged_lines[i][0]\n                i += 1\n                while i < len(tagged_lines) and not tagged_lines[i][2]:\n                    output += \" \" + tagged_lines[i][0]\n                    i += 1\n                assembled_lines.append(output)\n            else:\n                output = tagged_lines[i][1] + \" \" + tagged_lines[i][0]\n                i += 1\n                while i < len(tagged_lines) and not tagged_lines[i][2]:\n                    output += \" \" + tagged_lines[i][0].upper()\n                    i += 1\n                assembled_lines.append(output)\n    return assembled_lines",
   "block_group": "25057bdc35be451b94c959fb1b96f70c",
   "outputs_reference": null,
   "content_dependencies": {
    "codeHash": "6f462433",
    "usedVariables": [
     "output",
     "assembled_lines",
     "cap_strings_lst",
     "tagged_lines",
     "i"
    ],
    "importedModules": [],
    "definedVariables": [
     "e",
     "output",
     "assembled_lines",
     "cap_strings_lst",
     "assemble_lines",
     "i"
    ]
   },
   "outputs": [],
   "execution_count": 77
  },
  {
   "cell_type": "code",
   "metadata": {
    "source_hash": "af5295a9",
    "execution_start": 1718059609742,
    "execution_millis": 154,
    "deepnote_to_be_reexecuted": false,
    "deepnote_app_block_visible": true,
    "cell_id": "d038c1548f564856905955f1230e7866",
    "deepnote_cell_type": "code",
    "ExecuteTime": {
     "end_time": "2024-07-12T23:02:07.101690Z",
     "start_time": "2024-07-12T23:02:07.099656Z"
    }
   },
   "source": "def hide_line_types(lines: list, hide_lst: list) -> list:\n    \"Choose line type to hide based on prefix\"\n    def no_objection(line):\n        if not any(item in line for item in hide_lst):\n            return line\n    return list(filter(no_objection, lines))",
   "block_group": "632d7d33902f4d0690120a9ff67c86d5",
   "outputs_reference": null,
   "content_dependencies": {
    "codeHash": "af5295a9",
    "usedVariables": [
     "no_objection",
     "item",
     "hide_lst",
     "line",
     "lines"
    ],
    "importedModules": [],
    "definedVariables": [
     "no_objection",
     "hide_line_types",
     "item"
    ]
   },
   "outputs": [],
   "execution_count": 78
  },
  {
   "cell_type": "code",
   "metadata": {
    "source_hash": "8d4e3611",
    "execution_start": 1718059609742,
    "execution_millis": 155,
    "deepnote_to_be_reexecuted": false,
    "deepnote_app_block_visible": true,
    "cell_id": "e8dc11d5ecfc4acaabff0f91430733bd",
    "deepnote_cell_type": "code",
    "ExecuteTime": {
     "end_time": "2024-07-12T23:02:07.104286Z",
     "start_time": "2024-07-12T23:02:07.102353Z"
    }
   },
   "source": "def calculate_line_numbers():\n    prefix_num_count: int = len(num_range)\n    total_line_count: int = len(original_line_lst)\n    prefix_first_digit: int = num_range[0]\n    prefix_last_digit: int = num_range[-1]\n    if prefix_num_count < total_line_count:\n        prefix_first_digit = prefix_first_digit -1\n        return [prefix_first_digit, prefix_last_digit]\n    return prefix_first_digit, prefix_last_digit",
   "block_group": "6902eef4bc6e4ad99c7a7aad99381b4f",
   "outputs_reference": null,
   "content_dependencies": {
    "codeHash": "c646f9db",
    "usedVariables": [
     "prefix_digits",
     "num_range",
     "prefix_num_count",
     "original_line_lst",
     "total_line_count"
    ],
    "importedModules": [],
    "definedVariables": [
     "prefix_digits",
     "total_line_count",
     "prefix_num_count",
     "calculate_line_numbers"
    ]
   },
   "outputs": [],
   "execution_count": 79
  },
  {
   "cell_type": "code",
   "metadata": {
    "source_hash": "20e2de78",
    "execution_start": 1718059609763,
    "execution_millis": 134,
    "deepnote_to_be_reexecuted": false,
    "deepnote_app_block_visible": true,
    "cell_id": "07284e1cf9844a57b4d442716ed49e51",
    "deepnote_cell_type": "code",
    "ExecuteTime": {
     "end_time": "2024-07-12T23:02:07.107331Z",
     "start_time": "2024-07-12T23:02:07.104833Z"
    }
   },
   "source": "def final_formatting(lines: list) -> str:\n    first_num = calculate_line_numbers()[0]\n    last_num = calculate_line_numbers()[1]\n    formatted_lines = []\n    for line in lines:\n        if line.startswith(\"Q. \"):\n            formatted_lines.append(line.replace(\"Q. \", \"Q.\\t\"))\n        elif line.startswith(\"A. \"):\n            formatted_lines.append(line.replace(\"A. \", \"A.\\t\"))\n        else:\n            formatted_lines.append(line)\n    output_lines: str = '\\n'.join(formatted_lines)\n    output_lines_cite: str = f\"{output_lines}\\n\\n{witness_name} Dep. Tr. Pg. {first_num}-{last_num}\"\n    return output_lines_cite",
   "block_group": "50e116511f1e4d93b19c784e41737256",
   "outputs_reference": null,
   "content_dependencies": {
    "codeHash": "1437d5f0",
    "usedVariables": [
     "line",
     "formatted_lines",
     "lines"
    ],
    "importedModules": [],
    "definedVariables": [
     "formatted_lines",
     "line",
     "final_formatting"
    ]
   },
   "outputs": [],
   "execution_count": 80
  },
  {
   "cell_type": "code",
   "metadata": {
    "source_hash": "7df6aa14",
    "execution_start": 1718059609763,
    "execution_millis": 135,
    "deepnote_to_be_reexecuted": false,
    "deepnote_app_block_visible": true,
    "cell_id": "7a8642b5762042e6b3fdcbc971aeb5fd",
    "deepnote_cell_type": "code",
    "ExecuteTime": {
     "end_time": "2024-07-12T23:02:07.110711Z",
     "start_time": "2024-07-12T23:02:07.108543Z"
    }
   },
   "source": "\"\"\" EXECUTE \"\"\"",
   "block_group": "095b2199c49848aeb8dc24b10518e1e4",
   "outputs_reference": "dbtable:cell_outputs/6a299b75-5f9c-45b1-aa16-6a5e8ccf8cf9",
   "content_dependencies": {
    "codeHash": "7df6aa14",
    "usedVariables": [],
    "importedModules": [],
    "definedVariables": []
   },
   "outputs": [
    {
     "data": {
      "text/plain": [
       "' EXECUTE '"
      ]
     },
     "execution_count": 81,
     "metadata": {},
     "output_type": "execute_result"
    }
   ],
   "execution_count": 81
  },
  {
   "cell_type": "code",
   "metadata": {
    "source_hash": "ba065ece",
    "execution_start": 1718059609764,
    "execution_millis": 134,
    "deepnote_to_be_reexecuted": false,
    "deepnote_app_block_visible": true,
    "cell_id": "07c2444e70c74dad83963edfc75a99fa",
    "deepnote_cell_type": "code",
    "ExecuteTime": {
     "end_time": "2024-07-12T23:02:07.113238Z",
     "start_time": "2024-07-12T23:02:07.111402Z"
    }
   },
   "source": "def process_all() -> str:\n    output: list = initial_transcript_intake(original_line_lst)\n    output: list = assemble_lines(output)\n    output: list = hide_line_types(output, lines_to_hide)\n    output: str = final_formatting(output)\n    return output",
   "block_group": "98fae26684bd43329819c5b3b931778f",
   "outputs_reference": null,
   "content_dependencies": {
    "codeHash": "da3b39ac",
    "usedVariables": [
     "num_range",
     "initial_transcript_intake",
     "assemble_lines",
     "output",
     "lines_to_hide",
     "hide_line_types",
     "final_formatting",
     "original_line_lst"
    ],
    "importedModules": [],
    "definedVariables": [
     "process_all",
     "formatted_line_range",
     "output"
    ]
   },
   "outputs": [],
   "execution_count": 82
  },
  {
   "cell_type": "code",
   "metadata": {
    "source_hash": "4e3d6e40",
    "execution_start": 1718059609770,
    "execution_millis": 128,
    "deepnote_to_be_reexecuted": false,
    "deepnote_app_block_visible": true,
    "cell_id": "ed813a1bce1042d88b2af4fcb2dc6ea1",
    "deepnote_cell_type": "code",
    "ExecuteTime": {
     "end_time": "2024-07-12T23:02:07.115944Z",
     "start_time": "2024-07-12T23:02:07.113947Z"
    }
   },
   "source": "\"\"\" MAIN \"\"\"",
   "block_group": "85d3a9d2586a46f8a8b99872064ecad4",
   "outputs_reference": "dbtable:cell_outputs/4e6c87ea-3de9-43a3-a70a-360795983eda",
   "content_dependencies": {
    "codeHash": "4e3d6e40",
    "usedVariables": [],
    "importedModules": [],
    "definedVariables": []
   },
   "outputs": [
    {
     "data": {
      "text/plain": [
       "' MAIN '"
      ]
     },
     "execution_count": 83,
     "metadata": {},
     "output_type": "execute_result"
    }
   ],
   "execution_count": 83
  },
  {
   "cell_type": "code",
   "metadata": {
    "source_hash": "1cf86a2a",
    "execution_start": 1718059609770,
    "execution_millis": 129,
    "deepnote_to_be_reexecuted": false,
    "deepnote_app_block_visible": true,
    "cell_id": "2517bada9abf4f64a2c709034592bf43",
    "deepnote_cell_type": "code",
    "ExecuteTime": {
     "end_time": "2024-07-12T23:02:07.118291Z",
     "start_time": "2024-07-12T23:02:07.116517Z"
    }
   },
   "source": "def main():\n    print(process_all())\n\nmain()",
   "block_group": "ca9cebabba35460496b088149b61b826",
   "outputs_reference": "dbtable:cell_outputs/228a2279-538c-42f9-b4ed-aaa1012175b7",
   "content_dependencies": {
    "codeHash": "293cedcb",
    "usedVariables": [
     "process_all",
     "main",
     "calculate_line_numbers"
    ],
    "importedModules": [],
    "definedVariables": [
     "main"
    ]
   },
   "outputs": [
    {
     "name": "stdout",
     "output_type": "stream",
     "text": [
      "Q.\t I understand.  And my question is very narrow and written9 right there in the record. His recommendation was observation. You would agree with that; right?\n",
      "A.\t The way he worded it, he said, I would recommend a repeat mri scan in six to 12 months.14          That's what he recommended.\n",
      "\n",
      "Helt Dep. Tr. Pg. 8-13\n"
     ]
    }
   ],
   "execution_count": 84
  }
 ],
 "nbformat": 4,
 "nbformat_minor": 0,
 "metadata": {
  "deepnote_app_layout": "powerful-article",
  "deepnote_app_reactivity_enabled": true,
  "deepnote_notebook_id": "4040ef06063849ffb1d772e093f9535e",
  "deepnote_execution_queue": [],
  "kernelspec": {
   "name": "python3",
   "language": "python",
   "display_name": "Python 3 (ipykernel)"
  }
 }
}
