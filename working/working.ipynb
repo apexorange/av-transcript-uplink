{
 "cells": [
  {
   "metadata": {
    "ExecuteTime": {
     "end_time": "2024-07-21T17:06:32.694631Z",
     "start_time": "2024-07-21T17:06:32.687529Z"
    }
   },
   "cell_type": "code",
   "source": [
    "import re\n",
    "\n",
    "original_line_lst: list = [\n",
    "        \"20 Q. Now, you referenced reviewing some\",\n",
    "        ]           \n",
    "\n",
    "detect_pages = False\n",
    "\n",
    "for i, e in enumerate(original_line_lst):\n",
    "    line = e.strip()\n",
    "    \n",
    "line"
   ],
   "id": "156664962df1dffc",
   "outputs": [
    {
     "data": {
      "text/plain": [
       "'20 Q. Now, you referenced reviewing some'"
      ]
     },
     "execution_count": 1,
     "metadata": {},
     "output_type": "execute_result"
    }
   ],
   "execution_count": 1
  },
  {
   "metadata": {},
   "cell_type": "markdown",
   "source": "Separate the line number from the other text and track line numbers for later",
   "id": "c936cbda7e8d05df"
  },
  {
   "metadata": {
    "ExecuteTime": {
     "end_time": "2024-07-21T17:06:32.706445Z",
     "start_time": "2024-07-21T17:06:32.703671Z"
    }
   },
   "cell_type": "code",
   "source": [
    "original_line = '20 Q. Now, you referenced reviewing some'\n",
    "\n",
    "def set_pattern_match(text: str) -> str:\n",
    "    first_num = None  # set up variables to keep track of line number range\n",
    "    last_num = None  # set up variables to keep track of line number range\n",
    "    if not detect_pages:\n",
    "        match = re.match(r'^\\d+(:\\s*\\d+)?\\s+', text)\n",
    "\n",
    "        if match:\n",
    "            num = match.group(1)\n",
    "            text = text[match.end():].lstrip()\n",
    "    else:\n",
    "        match = re.match(r'^(\\d+)\\s+', text)\n",
    "\n",
    "        if match:\n",
    "            num = int(match.group(1))\n",
    "\n",
    "            if first_num is None:\n",
    "                first_num = num\n",
    "            last_num = num  # Always update last_num with the latest number\n",
    "\n",
    "            text = text[match.end():].lstrip()\n",
    "    return text\n",
    "\n",
    "# text_line: str = set_pattern_match(line)\n",
    "# text_line"
   ],
   "id": "59a89b1f8874ada8",
   "outputs": [],
   "execution_count": 2
  },
  {
   "metadata": {},
   "cell_type": "markdown",
   "source": "Replace any words in the word dictionary",
   "id": "5b78ccac4b9edc5e"
  },
  {
   "metadata": {
    "ExecuteTime": {
     "end_time": "2024-07-21T17:06:32.711599Z",
     "start_time": "2024-07-21T17:06:32.708433Z"
    }
   },
   "cell_type": "code",
   "source": [
    "text_line = 'THE WITNESS: Now, you referenced reviewing some'\n",
    "\n",
    "def dict_word_replacement(text: str) -> str:\n",
    "    \"\"\" does a key/value word replacement for any of the text strings in the current line \"\"\"\n",
    "    swap_phrase_dict = {\"THE WITNESS:\": \"A.\"}\n",
    "    for word, replacement in swap_phrase_dict.items():\n",
    "        if word in text:\n",
    "            text = text.replace(word, replacement)\n",
    "    return text\n",
    "    \n",
    "text_line: str = dict_word_replacement(text_line)\n",
    "text_line: str\n",
    "text_line"
   ],
   "id": "72dd912d5f81055c",
   "outputs": [
    {
     "data": {
      "text/plain": [
       "'A. Now, you referenced reviewing some'"
      ]
     },
     "execution_count": 3,
     "metadata": {},
     "output_type": "execute_result"
    }
   ],
   "execution_count": 3
  },
  {
   "metadata": {},
   "cell_type": "markdown",
   "source": "Functions to filter and/or reformat one line at a time",
   "id": "9957327423d8e1b8"
  },
  {
   "metadata": {
    "ExecuteTime": {
     "end_time": "2024-07-21T17:06:32.714990Z",
     "start_time": "2024-07-21T17:06:32.712742Z"
    }
   },
   "cell_type": "code",
   "source": [
    "def qa_phrase_filter(text: str) -> list:\n",
    "    \"\"\" checks for lines that start with Q. or A. and also checks if the current line is caps or if hide_obj \"\"\"\n",
    "    qa_phrases = [\"Q.\", \"A.\"]\n",
    "    if any(text.startswith(phrase) for phrase in qa_phrases):\n",
    "        return [f'<QA>: {text}', False]\n",
    "    else:\n",
    "        return [f'{text}', False]\n",
    "    "
   ],
   "id": "965f27fad2ce77e7",
   "outputs": [],
   "execution_count": 4
  },
  {
   "metadata": {},
   "cell_type": "markdown",
   "source": "Check for Objection Phrases at the beginning of a line",
   "id": "9f9aee33ad0ccae7"
  },
  {
   "metadata": {
    "ExecuteTime": {
     "end_time": "2024-07-21T17:06:32.717548Z",
     "start_time": "2024-07-21T17:06:32.715788Z"
    }
   },
   "cell_type": "code",
   "source": [
    "# def objection_phrases_filter(lst: list) -> str:\n",
    "#     \"\"\" checks for lines that start with one of the phrases the generally start an objection and also checks if the current line is caps or if hide_obj\"\"\"\n",
    "#     output_line = []\n",
    "#     objection_phrases = [\"MR\", \"MRS\", \"MS\", \"ATTY\", \"ATTORNEY\"]\n",
    "#     if any(lst[0].startswith(phrase) for phrase in objection_phrases):\n",
    "#         output_line = [f'<OBJ>: {lst[0]}', True]\n",
    "#     else:\n",
    "#         output_line = [{lst[0]}, False]\n",
    "#     return output_line\n",
    "        # filtered_line_list.append(text.upper())\n",
    "        # is_cap = True\n",
    "        # return [\"\".join(filtered_line_list), is_cap]\n",
    "\n",
    "# lines_lst: list = objection_phrases_filter(text_line)\n",
    "# lines_lst"
   ],
   "id": "433b0006323f65bf",
   "outputs": [],
   "execution_count": 5
  },
  {
   "metadata": {
    "ExecuteTime": {
     "end_time": "2024-07-21T17:06:32.721161Z",
     "start_time": "2024-07-21T17:06:32.719479Z"
    }
   },
   "cell_type": "code",
   "source": [
    "# def name_lines_only_filter(text: str):\n",
    "#     if text.startswith(\"QUESTIONS BY\") or text.startswith(\"BY\") and \":\" in text:\n",
    "#         return f'<NAMES>: {text.upper()}'\n",
    "#     else:\n",
    "#         return text\n",
    "    \n",
    "# def check_for_pg_text(text: str) -> str:    \n",
    "#     if text.startswith(\"Pg. \"):\n",
    "#         text = \"\\n\\n\" + text\n",
    "#     return text"
   ],
   "id": "9e869052eb637004",
   "outputs": [],
   "execution_count": 6
  },
  {
   "metadata": {
    "ExecuteTime": {
     "end_time": "2024-07-21T17:06:32.724736Z",
     "start_time": "2024-07-21T17:06:32.723173Z"
    }
   },
   "cell_type": "code",
   "source": [
    "# def handling_other_lines(text: str):\n",
    "#     if text and not any(line.startswith(phrase) for phrase in qa_phrases):\n",
    "#         phrase_being_assembled += \" \"\n",
    "#         phrase_being_assembled += line"
   ],
   "id": "92406dc09883ad51",
   "outputs": [],
   "execution_count": 7
  },
  {
   "metadata": {},
   "cell_type": "markdown",
   "source": "Now let's loop through some lines",
   "id": "a1051806a09e5f01"
  },
  {
   "metadata": {
    "ExecuteTime": {
     "end_time": "2024-07-21T17:06:32.728903Z",
     "start_time": "2024-07-21T17:06:32.726938Z"
    }
   },
   "cell_type": "code",
   "source": [
    "original_line_lst: list = [\n",
    "\"8 A. There were a lot of documents. I don't\",\n",
    "\"9 remember any specific document. There were lots.\",\n",
    "\"10 BY MR. HOLLANDER:\",\n",
    "\"11 Q. Can you describe the categories of\",\n",
    "\"12 documents that you reviewed?\",\n",
    "\"13 MR. DORSKY: Same caution, came\",\n",
    "\"14 objection.\",\n",
    "\"15 A. No, I really don't remember.\",\n",
    "\"16 BY MR. HOLLANDER:\",\n",
    "\"17 Q. Do you have any documents or notes with\",\n",
    "\"18 you today?\",\n",
    "\"19 A. No, I do not.\"\n",
    "]"
   ],
   "id": "1af00ca0c29fb2f5",
   "outputs": [],
   "execution_count": 8
  },
  {
   "metadata": {
    "ExecuteTime": {
     "end_time": "2024-07-21T17:06:32.764929Z",
     "start_time": "2024-07-21T17:06:32.762003Z"
    }
   },
   "cell_type": "code",
   "source": [
    "def tag_all_lines(text: str, line_lst) -> list:\n",
    "    qa_prefixes = [\"Q.\", \"A.\"]\n",
    "    objection_phrases = [\"MR\", \"MRS\", \"MS\", \"ATTY\", \"ATTORNEY\"]\n",
    "    name_phrases = []\n",
    "    if any(text.startswith(prefix) for prefix in qa_prefixes):\n",
    "        line_lst.append([f'<QA> {text}', \"QA\", True])\n",
    "    elif any(text.startswith(phrase) for phrase in objection_phrases):\n",
    "        line_lst.append([f'<OBJECTION> {text.upper()}', \"OBJECTION\", True])\n",
    "    else:\n",
    "        line_lst.append([text, \"tween\", False])\n",
    "    return line_lst"
   ],
   "id": "55c1b21b1d1d3a00",
   "outputs": [],
   "execution_count": 9
  },
  {
   "metadata": {
    "ExecuteTime": {
     "end_time": "2024-07-21T17:07:48.887885Z",
     "start_time": "2024-07-21T17:07:48.884410Z"
    }
   },
   "cell_type": "code",
   "source": [
    "\n",
    "line_lst = []\n",
    "for i, e in enumerate(original_line_lst):\n",
    "    text_line = e.strip()\n",
    "    text_line:str = set_pattern_match(text_line)\n",
    "    text_line: str = dict_word_replacement(text_line)\n",
    "    the_lst = tag_all_lines(text_line, line_lst)\n",
    "    \n",
    "# print(i+1, len(the_lst))\n",
    "# for i, e in enumerate(the_lst):\n",
    "#     # if i < len(the_lst)-1 and e[1]:\n",
    "#     line_lst.append(e)\n",
    "        \n",
    "the_lst"
   ],
   "id": "1c39f43993483d3d",
   "outputs": [
    {
     "data": {
      "text/plain": [
       "[[\"<QA> A. There were a lot of documents. I don't\", 'QA', True],\n",
       " ['remember any specific document. There were lots.', 'tween', False],\n",
       " ['BY MR. HOLLANDER:', 'tween', False],\n",
       " ['<QA> Q. Can you describe the categories of', 'QA', True],\n",
       " ['documents that you reviewed?', 'tween', False],\n",
       " ['<OBJECTION> MR. DORSKY: SAME CAUTION, CAME', 'OBJECTION', True],\n",
       " ['objection.', 'tween', False],\n",
       " [\"<QA> A. No, I really don't remember.\", 'QA', True],\n",
       " ['BY MR. HOLLANDER:', 'tween', False],\n",
       " ['<QA> Q. Do you have any documents or notes with', 'QA', True],\n",
       " ['you today?', 'tween', False],\n",
       " ['<QA> A. No, I do not.', 'QA', True]]"
      ]
     },
     "execution_count": 13,
     "metadata": {},
     "output_type": "execute_result"
    }
   ],
   "execution_count": 13
  },
  {
   "metadata": {
    "ExecuteTime": {
     "end_time": "2024-07-21T17:06:32.776413Z",
     "start_time": "2024-07-21T17:06:32.774874Z"
    }
   },
   "cell_type": "code",
   "source": "",
   "id": "a6fbc7e71e4017b1",
   "outputs": [],
   "execution_count": 10
  }
 ],
 "metadata": {
  "kernelspec": {
   "display_name": "Python 3",
   "language": "python",
   "name": "python3"
  },
  "language_info": {
   "codemirror_mode": {
    "name": "ipython",
    "version": 2
   },
   "file_extension": ".py",
   "mimetype": "text/x-python",
   "name": "python",
   "nbconvert_exporter": "python",
   "pygments_lexer": "ipython2",
   "version": "2.7.6"
  }
 },
 "nbformat": 4,
 "nbformat_minor": 5
}
