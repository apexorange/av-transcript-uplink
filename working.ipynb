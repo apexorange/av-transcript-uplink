{
 "cells": [
  {
   "metadata": {
    "ExecuteTime": {
     "end_time": "2024-06-09T16:04:42.162671Z",
     "start_time": "2024-06-09T16:04:42.159109Z"
    }
   },
   "cell_type": "code",
   "source": [
    "import re\n",
    "\n",
    "original_line_lst: list = [\n",
    "        \"20 Q. Now, you referenced reviewing some\",\n",
    "        ]           \n",
    "\n",
    "detect_pages = False\n",
    "\n",
    "for i, e in enumerate(original_line_lst):\n",
    "    line = e.strip()\n",
    "    \n",
    "line"
   ],
   "id": "156664962df1dffc",
   "outputs": [
    {
     "data": {
      "text/plain": [
       "'20 Q. Now, you referenced reviewing some'"
      ]
     },
     "execution_count": 100,
     "metadata": {},
     "output_type": "execute_result"
    }
   ],
   "execution_count": 100
  },
  {
   "metadata": {},
   "cell_type": "markdown",
   "source": "Separate the line number from the other text and track line numbers for later",
   "id": "c936cbda7e8d05df"
  },
  {
   "metadata": {
    "ExecuteTime": {
     "end_time": "2024-06-09T16:04:42.167180Z",
     "start_time": "2024-06-09T16:04:42.164064Z"
    }
   },
   "cell_type": "code",
   "source": [
    "original_line = '20 Q. Now, you referenced reviewing some'\n",
    "\n",
    "def set_pattern_match(text: str) -> str:\n",
    "    first_num = None  # set up variables to keep track of line number range\n",
    "    last_num = None  # set up variables to keep track of line number range\n",
    "    if not detect_pages:\n",
    "        match = re.match(r'^\\d+(:\\s*\\d+)?\\s+', text)\n",
    "\n",
    "        if match:\n",
    "            num = match.group(1)\n",
    "            text = text[match.end():].lstrip()\n",
    "    else:\n",
    "        match = re.match(r'^(\\d+)\\s+', text)\n",
    "\n",
    "        if match:\n",
    "            num = int(match.group(1))\n",
    "\n",
    "            if first_num is None:\n",
    "                first_num = num\n",
    "            last_num = num  # Always update last_num with the latest number\n",
    "\n",
    "            text = text[match.end():].lstrip()\n",
    "    return text\n",
    "\n",
    "# text_line: str = set_pattern_match(line)\n",
    "# text_line"
   ],
   "id": "59a89b1f8874ada8",
   "outputs": [],
   "execution_count": 101
  },
  {
   "metadata": {},
   "cell_type": "markdown",
   "source": "Replace any words in the word dictionary",
   "id": "5b78ccac4b9edc5e"
  },
  {
   "metadata": {
    "ExecuteTime": {
     "end_time": "2024-06-09T16:04:42.183223Z",
     "start_time": "2024-06-09T16:04:42.179719Z"
    }
   },
   "cell_type": "code",
   "source": [
    "text_line = 'THE WITNESS: Now, you referenced reviewing some'\n",
    "\n",
    "def dict_word_replacement(text: str) -> str:\n",
    "    \"\"\" does a key/value word replacement for any of the text strings in the current line \"\"\"\n",
    "    swap_phrase_dict = {\"THE WITNESS:\": \"A.\"}\n",
    "    for word, replacement in swap_phrase_dict.items():\n",
    "        if word in text:\n",
    "            text = text.replace(word, replacement)\n",
    "    return text\n",
    "    \n",
    "text_line: str = dict_word_replacement(text_line)\n",
    "text_line: str\n",
    "text_line"
   ],
   "id": "72dd912d5f81055c",
   "outputs": [
    {
     "data": {
      "text/plain": [
       "'A. Now, you referenced reviewing some'"
      ]
     },
     "execution_count": 102,
     "metadata": {},
     "output_type": "execute_result"
    }
   ],
   "execution_count": 102
  },
  {
   "metadata": {},
   "cell_type": "markdown",
   "source": "Functions to filter and/or reformat one line at a time",
   "id": "9957327423d8e1b8"
  },
  {
   "metadata": {
    "ExecuteTime": {
     "end_time": "2024-06-09T16:04:42.186500Z",
     "start_time": "2024-06-09T16:04:42.184373Z"
    }
   },
   "cell_type": "code",
   "source": [
    "def qa_phrase_filter(text: str) -> list:\n",
    "    \"\"\" checks for lines that start with Q. or A. and also checks if the current line is caps or if hide_obj \"\"\"\n",
    "    qa_phrases = [\"Q.\", \"A.\"]\n",
    "    if any(text.startswith(phrase) for phrase in qa_phrases):\n",
    "        return [f'<QA>: {text}', False]\n",
    "    else:\n",
    "        return [f'{text}', False]\n",
    "    "
   ],
   "id": "965f27fad2ce77e7",
   "outputs": [],
   "execution_count": 103
  },
  {
   "metadata": {},
   "cell_type": "markdown",
   "source": "Check for Objection Phrases at the beginning of a line",
   "id": "9f9aee33ad0ccae7"
  },
  {
   "metadata": {
    "ExecuteTime": {
     "end_time": "2024-06-09T16:04:42.189075Z",
     "start_time": "2024-06-09T16:04:42.187365Z"
    }
   },
   "cell_type": "code",
   "source": [
    "# def objection_phrases_filter(lst: list) -> str:\n",
    "#     \"\"\" checks for lines that start with one of the phrases the generally start an objection and also checks if the current line is caps or if hide_obj\"\"\"\n",
    "#     output_line = []\n",
    "#     objection_phrases = [\"MR\", \"MRS\", \"MS\", \"ATTY\", \"ATTORNEY\"]\n",
    "#     if any(lst[0].startswith(phrase) for phrase in objection_phrases):\n",
    "#         output_line = [f'<OBJ>: {lst[0]}', True]\n",
    "#     else:\n",
    "#         output_line = [{lst[0]}, False]\n",
    "#     return output_line\n",
    "        # filtered_line_list.append(text.upper())\n",
    "        # is_cap = True\n",
    "        # return [\"\".join(filtered_line_list), is_cap]\n",
    "\n",
    "# lines_lst: list = objection_phrases_filter(text_line)\n",
    "# lines_lst"
   ],
   "id": "433b0006323f65bf",
   "outputs": [],
   "execution_count": 104
  },
  {
   "metadata": {
    "ExecuteTime": {
     "end_time": "2024-06-09T16:04:42.195894Z",
     "start_time": "2024-06-09T16:04:42.194108Z"
    }
   },
   "cell_type": "code",
   "source": [
    "# def name_lines_only_filter(text: str):\n",
    "#     if text.startswith(\"QUESTIONS BY\") or text.startswith(\"BY\") and \":\" in text:\n",
    "#         return f'<NAMES>: {text.upper()}'\n",
    "#     else:\n",
    "#         return text\n",
    "    \n",
    "# def check_for_pg_text(text: str) -> str:    \n",
    "#     if text.startswith(\"Pg. \"):\n",
    "#         text = \"\\n\\n\" + text\n",
    "#     return text"
   ],
   "id": "9e869052eb637004",
   "outputs": [],
   "execution_count": 105
  },
  {
   "metadata": {
    "ExecuteTime": {
     "end_time": "2024-06-09T16:04:42.198399Z",
     "start_time": "2024-06-09T16:04:42.196949Z"
    }
   },
   "cell_type": "code",
   "source": [
    "# def handling_other_lines(text: str):\n",
    "#     if text and not any(line.startswith(phrase) for phrase in qa_phrases):\n",
    "#         phrase_being_assembled += \" \"\n",
    "#         phrase_being_assembled += line"
   ],
   "id": "92406dc09883ad51",
   "outputs": [],
   "execution_count": 106
  },
  {
   "metadata": {},
   "cell_type": "markdown",
   "source": "Now let's loop through some lines",
   "id": "a1051806a09e5f01"
  },
  {
   "metadata": {
    "ExecuteTime": {
     "end_time": "2024-06-09T16:04:42.200967Z",
     "start_time": "2024-06-09T16:04:42.199329Z"
    }
   },
   "cell_type": "code",
   "source": [
    "original_line_lst: list = [\n",
    "\"8 A. There were a lot of documents. I don't\",\n",
    "\"9 remember any specific document. There were lots.\",\n",
    "\"10 BY MR. HOLLANDER:\",\n",
    "\"11 Q. Can you describe the categories of\",\n",
    "\"12 documents that you reviewed?\",\n",
    "\"13 MR. DORSKY: Same caution, came\",\n",
    "\"14 objection.\",\n",
    "\"15 A. No, I really don't remember.\",\n",
    "\"16 BY MR. HOLLANDER:\",\n",
    "\"17 Q. Do you have any documents or notes with\",\n",
    "\"18 you today?\",\n",
    "\"19 A. No, I do not.\"\n",
    "]"
   ],
   "id": "1af00ca0c29fb2f5",
   "outputs": [],
   "execution_count": 107
  },
  {
   "metadata": {
    "ExecuteTime": {
     "end_time": "2024-06-09T16:04:42.203954Z",
     "start_time": "2024-06-09T16:04:42.201652Z"
    }
   },
   "cell_type": "code",
   "source": [
    "def tag_all_lines(text: str, line_lst) -> list:\n",
    "    qa_prefixes = [\"Q.\", \"A.\"]\n",
    "    objection_phrases = [\"MR\", \"MRS\", \"MS\", \"ATTY\", \"ATTORNEY\"]\n",
    "    name_phrases = []\n",
    "    if any(text.startswith(prefix) for prefix in qa_prefixes):\n",
    "        line_lst.append([f'<QA> {text}', \"QA\", True])\n",
    "    elif any(text.startswith(phrase) for phrase in objection_phrases):\n",
    "        line_lst.append([f'<OBJECTION> {text.upper()}', \"OBJECTION\", True])\n",
    "    else:\n",
    "        line_lst.append([text, \"tween\", False])\n",
    "    return line_lst"
   ],
   "id": "55c1b21b1d1d3a00",
   "outputs": [],
   "execution_count": 108
  },
  {
   "metadata": {
    "ExecuteTime": {
     "end_time": "2024-06-09T16:04:42.207189Z",
     "start_time": "2024-06-09T16:04:42.205138Z"
    }
   },
   "cell_type": "code",
   "source": [
    "\n",
    "line_lst = []\n",
    "for i, e in enumerate(original_line_lst):\n",
    "    text_line = e.strip()\n",
    "    text_line:str = set_pattern_match(text_line)\n",
    "    text_line: str = dict_word_replacement(text_line)\n",
    "    the_lst = tag_all_lines(text_line, line_lst)\n",
    "    \n",
    "print(the_lst)\n",
    "    \n",
    "    \n",
    "# print(i+1, len(the_lst))\n",
    "# for i, e in enumerate(the_lst):\n",
    "#     # if i < len(the_lst)-1 and e[1]:\n",
    "#     line_lst.append(e)\n",
    "        \n",
    "    "
   ],
   "id": "1c39f43993483d3d",
   "outputs": [
    {
     "name": "stdout",
     "output_type": "stream",
     "text": [
      "[[\"<QA> A. There were a lot of documents. I don't\", 'QA', True], ['remember any specific document. There were lots.', 'tween', False], ['BY MR. HOLLANDER:', 'tween', False], ['<QA> Q. Can you describe the categories of', 'QA', True], ['documents that you reviewed?', 'tween', False], ['<OBJECTION> MR. DORSKY: SAME CAUTION, CAME', 'OBJECTION', True], ['objection.', 'tween', False], [\"<QA> A. No, I really don't remember.\", 'QA', True], ['BY MR. HOLLANDER:', 'tween', False], ['<QA> Q. Do you have any documents or notes with', 'QA', True], ['you today?', 'tween', False], ['<QA> A. No, I do not.', 'QA', True]]\n"
     ]
    }
   ],
   "execution_count": 109
  },
  {
   "metadata": {
    "ExecuteTime": {
     "end_time": "2024-06-09T16:04:42.208946Z",
     "start_time": "2024-06-09T16:04:42.207854Z"
    }
   },
   "cell_type": "code",
   "source": "",
   "id": "a6fbc7e71e4017b1",
   "outputs": [],
   "execution_count": 109
  }
 ],
 "metadata": {
  "kernelspec": {
   "display_name": "Python 3",
   "language": "python",
   "name": "python3"
  },
  "language_info": {
   "codemirror_mode": {
    "name": "ipython",
    "version": 2
   },
   "file_extension": ".py",
   "mimetype": "text/x-python",
   "name": "python",
   "nbconvert_exporter": "python",
   "pygments_lexer": "ipython2",
   "version": "2.7.6"
  }
 },
 "nbformat": 4,
 "nbformat_minor": 5
}
